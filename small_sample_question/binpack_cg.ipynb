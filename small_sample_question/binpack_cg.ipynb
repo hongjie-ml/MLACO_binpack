{
 "cells": [
  {
   "cell_type": "code",
   "execution_count": 1,
   "metadata": {},
   "outputs": [],
   "source": [
    "from gurobipy import *\n",
    "import numpy as np"
   ]
  },
  {
   "cell_type": "code",
   "execution_count": 2,
   "metadata": {},
   "outputs": [],
   "source": [
    "def create_data_model():\n",
    "    \"\"\"Create the data for the example.\"\"\"\n",
    "    data = {}\n",
    "    weights = [48, 30, 19, 36, 36, 27, 42, 42, 36, 24, 30]\n",
    "    data['weights'] = weights\n",
    "    data['items'] = list(range(len(weights)))\n",
    "    data['bins'] = data['items']\n",
    "    data['bin_capacity'] = 100\n",
    "    return data"
   ]
  },
  {
   "cell_type": "code",
   "execution_count": 3,
   "metadata": {},
   "outputs": [],
   "source": [
    "weights = [48, 30, 19, 36, 36, 27, 42, 42, 36, 24, 30]"
   ]
  },
  {
   "cell_type": "code",
   "execution_count": 4,
   "metadata": {},
   "outputs": [
    {
     "data": {
      "text/plain": [
       "11"
      ]
     },
     "execution_count": 4,
     "metadata": {},
     "output_type": "execute_result"
    }
   ],
   "source": [
    "len(weights)"
   ]
  },
  {
   "cell_type": "code",
   "execution_count": 36,
   "metadata": {},
   "outputs": [],
   "source": [
    "m = 4\n",
    "s = [1, 3, 6, 7]\n",
    "B = 8\n",
    "a = []\n",
    "\n",
    "a1 = [0,0,1,0]\n",
    "a2 = [0,0,0,1]\n",
    "a3 = [0,1,0,0]\n",
    "a4 = [1,0,0,0]\n",
    "\n",
    "\n",
    "a.append(a1)\n",
    "a.append(a2)\n",
    "a.append(a3)\n",
    "a.append(a4)\n",
    "\n"
   ]
  },
  {
   "cell_type": "code",
   "execution_count": 37,
   "metadata": {},
   "outputs": [],
   "source": [
    "n = len(a)"
   ]
  },
  {
   "cell_type": "code",
   "execution_count": null,
   "metadata": {},
   "outputs": [],
   "source": []
  },
  {
   "cell_type": "code",
   "execution_count": 38,
   "metadata": {},
   "outputs": [],
   "source": [
    "master=Model(\"master\")\n",
    "x = {}\n",
    "for j in range(n):\n",
    "    x[j] = master.addVar(vtype='B', name='x(%s)'%j)"
   ]
  },
  {
   "cell_type": "code",
   "execution_count": 39,
   "metadata": {},
   "outputs": [],
   "source": [
    "orders={}\n",
    "for i in range(m):\n",
    "    orders[i] = master.addConstr(quicksum(a[j][i]*x[j] for j in range(n))>=1,\"order(%s)\"%i)\n",
    "\n",
    "master.setObjective(quicksum(x[j] for j in range(n)), GRB.MINIMIZE)"
   ]
  },
  {
   "cell_type": "code",
   "execution_count": 40,
   "metadata": {},
   "outputs": [],
   "source": [
    "master.update()"
   ]
  },
  {
   "cell_type": "code",
   "execution_count": 41,
   "metadata": {},
   "outputs": [
    {
     "name": "stdout",
     "output_type": "stream",
     "text": [
      "Minimize\n",
      "  x(0) + x(1) + x(2) + x(3) + x(4)\n",
      "Subject To\n",
      "  order(0): x(3) >= 1\n",
      "  order(1): x(2) + x(4) >= 1\n",
      "  order(2): x(0) >= 1\n",
      "  order(3): x(1) >= 1\n",
      "Binaries\n",
      "  ['x(0)', 'x(1)', 'x(2)', 'x(3)', 'x(4)']\n"
     ]
    }
   ],
   "source": [
    "master.display()"
   ]
  },
  {
   "cell_type": "code",
   "execution_count": 42,
   "metadata": {},
   "outputs": [],
   "source": [
    "relax = master.relax()"
   ]
  },
  {
   "cell_type": "code",
   "execution_count": 43,
   "metadata": {},
   "outputs": [
    {
     "name": "stdout",
     "output_type": "stream",
     "text": [
      "Gurobi Optimizer version 10.0.1 build v10.0.1rc0 (linux64)\n",
      "\n",
      "CPU model: AMD Ryzen 5 5600G with Radeon Graphics, instruction set [SSE2|AVX|AVX2]\n",
      "Thread count: 6 physical cores, 12 logical processors, using up to 12 threads\n",
      "\n",
      "Academic license - for non-commercial use only - registered to s3880497@student.rmit.edu.au\n",
      "Optimize a model with 4 rows, 5 columns and 5 nonzeros\n",
      "Model fingerprint: 0xa8df6f24\n",
      "Coefficient statistics:\n",
      "  Matrix range     [1e+00, 1e+00]\n",
      "  Objective range  [1e+00, 1e+00]\n",
      "  Bounds range     [1e+00, 1e+00]\n",
      "  RHS range        [1e+00, 1e+00]\n",
      "Presolve removed 4 rows and 5 columns\n",
      "Presolve time: 0.01s\n",
      "Presolve: All rows and columns removed\n",
      "Iteration    Objective       Primal Inf.    Dual Inf.      Time\n",
      "       0    4.0000000e+00   0.000000e+00   0.000000e+00      0s\n",
      "\n",
      "Solved in 0 iterations and 0.01 seconds (0.00 work units)\n",
      "Optimal objective  4.000000000e+00\n"
     ]
    }
   ],
   "source": [
    "relax.optimize()"
   ]
  },
  {
   "cell_type": "code",
   "execution_count": 44,
   "metadata": {},
   "outputs": [
    {
     "name": "stdout",
     "output_type": "stream",
     "text": [
      "Minimize\n",
      "  x(0) + x(1) + x(2) + x(3) + x(4)\n",
      "Subject To\n",
      "  order(0): x(3) >= 1\n",
      "  order(1): x(2) + x(4) >= 1\n",
      "  order(2): x(0) >= 1\n",
      "  order(3): x(1) >= 1\n",
      "Bounds\n",
      "  0 <= x(0) <= 1\n",
      "  0 <= x(1) <= 1\n",
      "  0 <= x(2) <= 1\n",
      "  0 <= x(3) <= 1\n",
      "  0 <= x(4) <= 1\n"
     ]
    }
   ],
   "source": [
    "relax.display()"
   ]
  },
  {
   "cell_type": "code",
   "execution_count": 16,
   "metadata": {},
   "outputs": [
    {
     "ename": "GurobiError",
     "evalue": "Unable to retrieve attribute 'x'",
     "output_type": "error",
     "traceback": [
      "\u001b[0;31m---------------------------------------------------------------------------\u001b[0m",
      "\u001b[0;31mGurobiError\u001b[0m                               Traceback (most recent call last)",
      "Cell \u001b[0;32mIn[16], line 1\u001b[0m\n\u001b[0;32m----> 1\u001b[0m relax\u001b[39m.\u001b[39;49mx\n",
      "File \u001b[0;32msrc/gurobipy/model.pxi:354\u001b[0m, in \u001b[0;36mgurobipy.Model.__getattr__\u001b[0;34m()\u001b[0m\n",
      "File \u001b[0;32msrc/gurobipy/model.pxi:1935\u001b[0m, in \u001b[0;36mgurobipy.Model.getAttr\u001b[0;34m()\u001b[0m\n",
      "File \u001b[0;32msrc/gurobipy/attrutil.pxi:148\u001b[0m, in \u001b[0;36mgurobipy.__gettypedattrlist\u001b[0;34m()\u001b[0m\n",
      "\u001b[0;31mGurobiError\u001b[0m: Unable to retrieve attribute 'x'"
     ]
    }
   ],
   "source": [
    "relax.x"
   ]
  },
  {
   "cell_type": "code",
   "execution_count": 19,
   "metadata": {},
   "outputs": [],
   "source": [
    "pi=[c.pi for c in relax.getConstrs()]"
   ]
  },
  {
   "cell_type": "code",
   "execution_count": 20,
   "metadata": {},
   "outputs": [
    {
     "data": {
      "text/plain": [
       "[1.0, 1.0, 1.0, 1.0]"
      ]
     },
     "execution_count": 20,
     "metadata": {},
     "output_type": "execute_result"
    }
   ],
   "source": [
    "pi"
   ]
  },
  {
   "cell_type": "code",
   "execution_count": 21,
   "metadata": {},
   "outputs": [],
   "source": [
    "sub=Model(\"sub\")\n",
    "y={}\n",
    "for i in range(m):\n",
    "    y[i]=sub.addVar(vtype=\"B\")\n",
    "sub.addConstr(quicksum(y[i]*s[i] for i in range(m))<=B)\n",
    "sub.setObjective(quicksum(pi[i]*y[i] for i in range(m)),GRB.MAXIMIZE)"
   ]
  },
  {
   "cell_type": "code",
   "execution_count": 22,
   "metadata": {},
   "outputs": [],
   "source": [
    "sub.update()"
   ]
  },
  {
   "cell_type": "code",
   "execution_count": 23,
   "metadata": {},
   "outputs": [
    {
     "name": "stdout",
     "output_type": "stream",
     "text": [
      "Maximize\n",
      "  C0 + C1 + C2 + C3\n",
      "Subject To\n",
      "  R0: C0 + 3.0 C1 + 6.0 C2 + 7.0 C3 <= 8\n",
      "Binaries\n",
      "  ['C0', 'C1', 'C2', 'C3']\n"
     ]
    }
   ],
   "source": [
    "sub.display()"
   ]
  },
  {
   "cell_type": "code",
   "execution_count": 24,
   "metadata": {},
   "outputs": [
    {
     "name": "stdout",
     "output_type": "stream",
     "text": [
      "Gurobi Optimizer version 10.0.1 build v10.0.1rc0 (linux64)\n",
      "\n",
      "CPU model: AMD Ryzen 5 5600G with Radeon Graphics, instruction set [SSE2|AVX|AVX2]\n",
      "Thread count: 6 physical cores, 12 logical processors, using up to 12 threads\n",
      "\n",
      "Academic license - for non-commercial use only - registered to s3880497@student.rmit.edu.au\n",
      "Optimize a model with 1 rows, 4 columns and 4 nonzeros\n",
      "Model fingerprint: 0xaa1d34a5\n",
      "Variable types: 0 continuous, 4 integer (4 binary)\n",
      "Coefficient statistics:\n",
      "  Matrix range     [1e+00, 7e+00]\n",
      "  Objective range  [1e+00, 1e+00]\n",
      "  Bounds range     [1e+00, 1e+00]\n",
      "  RHS range        [8e+00, 8e+00]\n",
      "Found heuristic solution: objective 2.0000000\n",
      "Presolve removed 1 rows and 4 columns\n",
      "Presolve time: 0.00s\n",
      "Presolve: All rows and columns removed\n",
      "\n",
      "Explored 0 nodes (0 simplex iterations) in 0.01 seconds (0.00 work units)\n",
      "Thread count was 1 (of 12 available processors)\n",
      "\n",
      "Solution count 1: 2 \n",
      "\n",
      "Optimal solution found (tolerance 1.00e-04)\n",
      "Best objective 2.000000000000e+00, best bound 2.000000000000e+00, gap 0.0000%\n"
     ]
    }
   ],
   "source": [
    "sub.optimize()"
   ]
  },
  {
   "cell_type": "code",
   "execution_count": 25,
   "metadata": {},
   "outputs": [
    {
     "data": {
      "text/plain": [
       "[1.0, 1.0, 0.0, 0.0]"
      ]
     },
     "execution_count": 25,
     "metadata": {},
     "output_type": "execute_result"
    }
   ],
   "source": [
    "sub.x"
   ]
  },
  {
   "cell_type": "code",
   "execution_count": 49,
   "metadata": {},
   "outputs": [
    {
     "name": "stdout",
     "output_type": "stream",
     "text": [
      "1.0\n",
      "1.0\n",
      "0.0\n",
      "0.0\n"
     ]
    }
   ],
   "source": [
    "for i in range(m):\n",
    "    print(y[i].x)"
   ]
  },
  {
   "cell_type": "code",
   "execution_count": 25,
   "metadata": {},
   "outputs": [],
   "source": [
    "m=4\n",
    "s=[1,3,6,7]\n",
    "B=8\n",
    "a=[]\n",
    "a1=[0,0,1,0]\n",
    "a2=[0,0,0,1]\n",
    "a3=[0,1,0,0]\n",
    "a4=[1,0,0,0]\n",
    "a5=[1,1,0,0]\n",
    "a.append(a1)\n",
    "a.append(a2)\n",
    "a.append(a3)\n",
    "a.append(a4)\n",
    "a.append(a5)\n",
    "n=len(a)\n",
    "master=Model(\"master\")\n",
    "x={}\n",
    "for j in range(n):\n",
    "    x[j]=master.addVar(vtype=\"B\",name=\"x(%s)\"%j)\n",
    "\n",
    "orders={}\n",
    "for i in range(m):\n",
    "    orders[i]=master.addConstr(\n",
    "        quicksum(a[j][i]*x[j] for j in range(n))>=1,\"order(%s)\"%i\n",
    "    )\n",
    "master.setObjective(quicksum(x[j] for j in range(n)), GRB.MINIMIZE)\n",
    "master.update()"
   ]
  },
  {
   "cell_type": "code",
   "execution_count": 28,
   "metadata": {},
   "outputs": [],
   "source": [
    "relax = master.relax()"
   ]
  },
  {
   "cell_type": "code",
   "execution_count": 29,
   "metadata": {},
   "outputs": [
    {
     "name": "stdout",
     "output_type": "stream",
     "text": [
      "Gurobi Optimizer version 10.0.1 build v10.0.1rc0 (linux64)\n",
      "\n",
      "CPU model: AMD Ryzen 5 5600G with Radeon Graphics, instruction set [SSE2|AVX|AVX2]\n",
      "Thread count: 6 physical cores, 12 logical processors, using up to 12 threads\n",
      "\n",
      "Academic license - for non-commercial use only - registered to s3880497@student.rmit.edu.au\n",
      "Optimize a model with 4 rows, 5 columns and 6 nonzeros\n",
      "Model fingerprint: 0x45fac92e\n",
      "Coefficient statistics:\n",
      "  Matrix range     [1e+00, 1e+00]\n",
      "  Objective range  [1e+00, 1e+00]\n",
      "  Bounds range     [1e+00, 1e+00]\n",
      "  RHS range        [1e+00, 1e+00]\n",
      "Presolve removed 2 rows and 2 columns\n",
      "Presolve time: 0.00s\n",
      "Presolved: 2 rows, 3 columns, 4 nonzeros\n",
      "\n",
      "Iteration    Objective       Primal Inf.    Dual Inf.      Time\n",
      "       0    2.0000000e+00   2.000000e+00   0.000000e+00      0s\n",
      "       2    3.0000000e+00   0.000000e+00   0.000000e+00      0s\n",
      "\n",
      "Solved in 2 iterations and 0.01 seconds (0.00 work units)\n",
      "Optimal objective  3.000000000e+00\n"
     ]
    }
   ],
   "source": [
    "relax.optimize()"
   ]
  },
  {
   "cell_type": "code",
   "execution_count": 30,
   "metadata": {},
   "outputs": [
    {
     "data": {
      "text/plain": [
       "[1.0, 1.0, 0.0, 0.0, 1.0]"
      ]
     },
     "execution_count": 30,
     "metadata": {},
     "output_type": "execute_result"
    }
   ],
   "source": [
    "relax.x"
   ]
  },
  {
   "cell_type": "code",
   "execution_count": 32,
   "metadata": {},
   "outputs": [],
   "source": [
    "pi=[c.pi for c in relax.getConstrs()]"
   ]
  },
  {
   "cell_type": "code",
   "execution_count": 33,
   "metadata": {},
   "outputs": [
    {
     "data": {
      "text/plain": [
       "[1.0, -0.0, 1.0, 1.0]"
      ]
     },
     "execution_count": 33,
     "metadata": {},
     "output_type": "execute_result"
    }
   ],
   "source": [
    "pi"
   ]
  },
  {
   "cell_type": "code",
   "execution_count": 38,
   "metadata": {},
   "outputs": [],
   "source": [
    "sub=Model(\"sub\")\n",
    "y={}\n",
    "for i in range(m):\n",
    "    y[i]=sub.addVar(vtype=\"B\")\n",
    "sub.addConstr(quicksum(y[i]*s[i] for i in range(m))<=B)\n",
    "sub.setObjective(quicksum(pi[i]*y[i] for i in range(m)),GRB.MAXIMIZE)\n",
    "sub.update()"
   ]
  },
  {
   "cell_type": "code",
   "execution_count": 39,
   "metadata": {},
   "outputs": [
    {
     "name": "stdout",
     "output_type": "stream",
     "text": [
      "Maximize\n",
      "  C0 + C2 + C3\n",
      "Subject To\n",
      "  R0: C0 + 3.0 C1 + 6.0 C2 + 7.0 C3 <= 8\n",
      "Binaries\n",
      "  ['C0', 'C1', 'C2', 'C3']\n"
     ]
    }
   ],
   "source": [
    "sub.display()"
   ]
  },
  {
   "cell_type": "code",
   "execution_count": 40,
   "metadata": {},
   "outputs": [
    {
     "name": "stdout",
     "output_type": "stream",
     "text": [
      "Gurobi Optimizer version 10.0.1 build v10.0.1rc0 (linux64)\n",
      "\n",
      "CPU model: AMD Ryzen 5 5600G with Radeon Graphics, instruction set [SSE2|AVX|AVX2]\n",
      "Thread count: 6 physical cores, 12 logical processors, using up to 12 threads\n",
      "\n",
      "Academic license - for non-commercial use only - registered to s3880497@student.rmit.edu.au\n",
      "Optimize a model with 1 rows, 4 columns and 4 nonzeros\n",
      "Model fingerprint: 0xc55540f6\n",
      "Variable types: 0 continuous, 4 integer (4 binary)\n",
      "Coefficient statistics:\n",
      "  Matrix range     [1e+00, 7e+00]\n",
      "  Objective range  [1e+00, 1e+00]\n",
      "  Bounds range     [1e+00, 1e+00]\n",
      "  RHS range        [8e+00, 8e+00]\n",
      "Found heuristic solution: objective 2.0000000\n",
      "Presolve removed 1 rows and 4 columns\n",
      "Presolve time: 0.00s\n",
      "Presolve: All rows and columns removed\n",
      "\n",
      "Explored 0 nodes (0 simplex iterations) in 0.01 seconds (0.00 work units)\n",
      "Thread count was 1 (of 12 available processors)\n",
      "\n",
      "Solution count 1: 2 \n",
      "\n",
      "Optimal solution found (tolerance 1.00e-04)\n",
      "Best objective 2.000000000000e+00, best bound 2.000000000000e+00, gap 0.0000%\n"
     ]
    }
   ],
   "source": [
    "sub.optimize()"
   ]
  },
  {
   "cell_type": "code",
   "execution_count": 41,
   "metadata": {},
   "outputs": [
    {
     "data": {
      "text/plain": [
       "[1.0, 0.0, 1.0, 0.0]"
      ]
     },
     "execution_count": 41,
     "metadata": {},
     "output_type": "execute_result"
    }
   ],
   "source": [
    "sub.x"
   ]
  },
  {
   "cell_type": "code",
   "execution_count": 42,
   "metadata": {},
   "outputs": [],
   "source": [
    "m=4\n",
    "s=[1,3,6,7]\n",
    "B=8\n",
    "a=[]\n",
    "a1=[0,0,1,0]\n",
    "a2=[0,0,0,1]\n",
    "a3=[0,1,0,0]\n",
    "a4=[1,0,0,0]\n",
    "a5=[1,1,0,0]\n",
    "a6=[1,0,1,0]\n",
    "a.append(a1)\n",
    "a.append(a2)\n",
    "a.append(a3)\n",
    "a.append(a4)\n",
    "a.append(a5)\n",
    "a.append(a6)\n",
    "n=len(a)\n",
    "master=Model(\"master\")\n",
    "x={}\n",
    "for j in range(n):\n",
    "    x[j]=master.addVar(vtype=\"B\",name=\"x(%s)\"%j)\n",
    "\n",
    "orders={}\n",
    "for i in range(m):\n",
    "    orders[i]=master.addConstr(\n",
    "        quicksum(a[j][i]*x[j] for j in range(n))>=1,\"order(%s)\"%i\n",
    "    )\n",
    "master.setObjective(quicksum(x[j] for j in range(n)), GRB.MINIMIZE)\n",
    "master.update()"
   ]
  },
  {
   "cell_type": "code",
   "execution_count": 43,
   "metadata": {},
   "outputs": [
    {
     "name": "stdout",
     "output_type": "stream",
     "text": [
      "Minimize\n",
      "  x(0) + x(1) + x(2) + x(3) + x(4) + x(5)\n",
      "Subject To\n",
      "  order(0): x(3) + x(4) + x(5) >= 1\n",
      "  order(1): x(2) + x(4) >= 1\n",
      "  order(2): x(0) + x(5) >= 1\n",
      "  order(3): x(1) >= 1\n",
      "Binaries\n",
      "  ['x(0)', 'x(1)', 'x(2)', 'x(3)', 'x(4)', 'x(5)']\n"
     ]
    }
   ],
   "source": [
    "master.display()"
   ]
  },
  {
   "cell_type": "code",
   "execution_count": 44,
   "metadata": {},
   "outputs": [
    {
     "name": "stdout",
     "output_type": "stream",
     "text": [
      "Gurobi Optimizer version 10.0.1 build v10.0.1rc0 (linux64)\n",
      "\n",
      "CPU model: AMD Ryzen 5 5600G with Radeon Graphics, instruction set [SSE2|AVX|AVX2]\n",
      "Thread count: 6 physical cores, 12 logical processors, using up to 12 threads\n",
      "\n",
      "Academic license - for non-commercial use only - registered to s3880497@student.rmit.edu.au\n",
      "Optimize a model with 4 rows, 6 columns and 8 nonzeros\n",
      "Model fingerprint: 0x0f35da06\n",
      "Coefficient statistics:\n",
      "  Matrix range     [1e+00, 1e+00]\n",
      "  Objective range  [1e+00, 1e+00]\n",
      "  Bounds range     [1e+00, 1e+00]\n",
      "  RHS range        [1e+00, 1e+00]\n",
      "Presolve removed 1 rows and 1 columns\n",
      "Presolve time: 0.01s\n",
      "Presolved: 3 rows, 5 columns, 7 nonzeros\n",
      "\n",
      "Iteration    Objective       Primal Inf.    Dual Inf.      Time\n",
      "       0    1.0000000e+00   3.000000e+00   0.000000e+00      0s\n",
      "       4    3.0000000e+00   0.000000e+00   0.000000e+00      0s\n",
      "\n",
      "Solved in 4 iterations and 0.01 seconds (0.00 work units)\n",
      "Optimal objective  3.000000000e+00\n"
     ]
    }
   ],
   "source": [
    "relax = master.relax()\n",
    "relax.optimize()"
   ]
  },
  {
   "cell_type": "code",
   "execution_count": 46,
   "metadata": {},
   "outputs": [
    {
     "name": "stdout",
     "output_type": "stream",
     "text": [
      "Minimize\n",
      "  x(0) + x(1) + x(2) + x(3) + x(4) + x(5)\n",
      "Subject To\n",
      "  order(0): x(3) + x(4) + x(5) >= 1\n",
      "  order(1): x(2) + x(4) >= 1\n",
      "  order(2): x(0) + x(5) >= 1\n",
      "  order(3): x(1) >= 1\n",
      "Bounds\n",
      "  0 <= x(0) <= 1\n",
      "  0 <= x(1) <= 1\n",
      "  0 <= x(2) <= 1\n",
      "  0 <= x(3) <= 1\n",
      "  0 <= x(4) <= 1\n",
      "  0 <= x(5) <= 1\n"
     ]
    }
   ],
   "source": [
    "relax.display()"
   ]
  },
  {
   "cell_type": "code",
   "execution_count": 48,
   "metadata": {},
   "outputs": [],
   "source": [
    "pi=[c.pi for c in relax.getConstrs()]"
   ]
  },
  {
   "cell_type": "code",
   "execution_count": 49,
   "metadata": {},
   "outputs": [
    {
     "data": {
      "text/plain": [
       "[0.0, 1.0, 1.0, 1.0]"
      ]
     },
     "execution_count": 49,
     "metadata": {},
     "output_type": "execute_result"
    }
   ],
   "source": [
    "pi"
   ]
  },
  {
   "cell_type": "code",
   "execution_count": 50,
   "metadata": {},
   "outputs": [],
   "source": [
    "sub=Model(\"sub\")\n",
    "y={}\n",
    "for i in range(m):\n",
    "    y[i]=sub.addVar(vtype=\"B\")\n",
    "sub.addConstr(quicksum(y[i]*s[i] for i in range(m))<=B)\n",
    "sub.setObjective(quicksum(pi[i]*y[i] for i in range(m)),GRB.MAXIMIZE)\n",
    "sub.update()"
   ]
  },
  {
   "cell_type": "code",
   "execution_count": 51,
   "metadata": {},
   "outputs": [
    {
     "name": "stdout",
     "output_type": "stream",
     "text": [
      "Maximize\n",
      "  C1 + C2 + C3\n",
      "Subject To\n",
      "  R0: C0 + 3.0 C1 + 6.0 C2 + 7.0 C3 <= 8\n",
      "Binaries\n",
      "  ['C0', 'C1', 'C2', 'C3']\n"
     ]
    }
   ],
   "source": [
    "sub.display()"
   ]
  },
  {
   "cell_type": "code",
   "execution_count": 52,
   "metadata": {},
   "outputs": [
    {
     "name": "stdout",
     "output_type": "stream",
     "text": [
      "Gurobi Optimizer version 10.0.1 build v10.0.1rc0 (linux64)\n",
      "\n",
      "CPU model: AMD Ryzen 5 5600G with Radeon Graphics, instruction set [SSE2|AVX|AVX2]\n",
      "Thread count: 6 physical cores, 12 logical processors, using up to 12 threads\n",
      "\n",
      "Academic license - for non-commercial use only - registered to s3880497@student.rmit.edu.au\n",
      "Optimize a model with 1 rows, 4 columns and 4 nonzeros\n",
      "Model fingerprint: 0xdfe4c87c\n",
      "Variable types: 0 continuous, 4 integer (4 binary)\n",
      "Coefficient statistics:\n",
      "  Matrix range     [1e+00, 7e+00]\n",
      "  Objective range  [1e+00, 1e+00]\n",
      "  Bounds range     [1e+00, 1e+00]\n",
      "  RHS range        [8e+00, 8e+00]\n",
      "Found heuristic solution: objective 1.0000000\n",
      "Presolve removed 1 rows and 4 columns\n",
      "Presolve time: 0.00s\n",
      "Presolve: All rows and columns removed\n",
      "\n",
      "Explored 0 nodes (0 simplex iterations) in 0.01 seconds (0.00 work units)\n",
      "Thread count was 1 (of 12 available processors)\n",
      "\n",
      "Solution count 1: 1 \n",
      "\n",
      "Optimal solution found (tolerance 1.00e-04)\n",
      "Best objective 1.000000000000e+00, best bound 1.000000000000e+00, gap 0.0000%\n"
     ]
    }
   ],
   "source": [
    "sub.optimize()"
   ]
  },
  {
   "cell_type": "code",
   "execution_count": 54,
   "metadata": {},
   "outputs": [
    {
     "data": {
      "text/plain": [
       "[0.0, 1.0, 0.0, 0.0]"
      ]
     },
     "execution_count": 54,
     "metadata": {},
     "output_type": "execute_result"
    }
   ],
   "source": [
    "sub.x"
   ]
  },
  {
   "cell_type": "code",
   "execution_count": null,
   "metadata": {},
   "outputs": [],
   "source": [
    "m=4\n",
    "s=[1,3,6,7]\n",
    "B=8\n",
    "a=[]\n",
    "a1=[0,0,1,0]\n",
    "a2=[0,0,0,1]\n",
    "a3=[0,1,0,0]\n",
    "a4=[1,0,0,0]\n",
    "a5=[1,1,0,0]\n",
    "a6=[1,0,1,0]\n",
    "a.append(a1)\n",
    "a.append(a2)\n",
    "a.append(a3)\n",
    "a.append(a4)\n",
    "a.append(a5)\n",
    "a.append(a6)\n",
    "n=len(a)\n",
    "master=Model(\"master\")\n",
    "x={}\n",
    "for j in range(n):\n",
    "    x[j]=master.addVar(vtype=\"B\",name=\"x(%s)\"%j)\n",
    "\n",
    "orders={}\n",
    "for i in range(m):\n",
    "    orders[i]=master.addConstr(\n",
    "        quicksum(a[j][i]*x[j] for j in range(n))>=1,\"order(%s)\"%i\n",
    "    )\n",
    "master.setObjective(quicksum(x[j] for j in range(n)), GRB.MINIMIZE)\n",
    "master.update()"
   ]
  },
  {
   "cell_type": "code",
   "execution_count": 55,
   "metadata": {},
   "outputs": [
    {
     "data": {
      "text/plain": [
       "[0.0, 1.0, 0.0, 0.0, 1.0, 1.0]"
      ]
     },
     "execution_count": 55,
     "metadata": {},
     "output_type": "execute_result"
    }
   ],
   "source": [
    "relax.x"
   ]
  },
  {
   "cell_type": "code",
   "execution_count": 5,
   "metadata": {},
   "outputs": [
    {
     "data": {
      "text/plain": [
       "20"
      ]
     },
     "execution_count": 5,
     "metadata": {},
     "output_type": "execute_result"
    }
   ],
   "source": [
    "a1=[1,0,0,0,0,0,0,0,0,0,0,0,0,0,0,0,0,0,0,0]\n"
   ]
  },
  {
   "cell_type": "code",
   "execution_count": 7,
   "metadata": {},
   "outputs": [
    {
     "name": "stdout",
     "output_type": "stream",
     "text": [
      "Set parameter WLSAccessID\n",
      "Set parameter WLSSecret\n",
      "Set parameter LicenseID to value 2366558\n",
      "Academic license - for non-commercial use only - registered to s3880497@student.rmit.edu.au\n",
      "*****relaxation for master problem*****\n",
      "Gurobi Optimizer version 10.0.1 build v10.0.1rc0 (linux64)\n",
      "\n",
      "CPU model: AMD Ryzen 5 5600G with Radeon Graphics, instruction set [SSE2|AVX|AVX2]\n",
      "Thread count: 6 physical cores, 12 logical processors, using up to 12 threads\n",
      "\n",
      "Academic license - for non-commercial use only - registered to s3880497@student.rmit.edu.au\n",
      "Optimize a model with 20 rows, 2 columns and 2 nonzeros\n",
      "Model fingerprint: 0x898a6985\n",
      "Coefficient statistics:\n",
      "  Matrix range     [1e+00, 1e+00]\n",
      "  Objective range  [1e+00, 1e+00]\n",
      "  Bounds range     [1e+00, 1e+00]\n",
      "  RHS range        [1e+00, 1e+00]\n",
      "Presolve time: 0.37s\n",
      "\n",
      "Solved in 0 iterations and 0.37 seconds (0.00 work units)\n",
      "Infeasible model\n"
     ]
    },
    {
     "ename": "AttributeError",
     "evalue": "Unable to retrieve attribute 'pi'",
     "output_type": "error",
     "traceback": [
      "\u001b[0;31m---------------------------------------------------------------------------\u001b[0m",
      "\u001b[0;31mAttributeError\u001b[0m                            Traceback (most recent call last)",
      "Cell \u001b[0;32mIn[7], line 33\u001b[0m\n\u001b[1;32m     31\u001b[0m relax\u001b[39m=\u001b[39mmaster\u001b[39m.\u001b[39mrelax()\n\u001b[1;32m     32\u001b[0m relax\u001b[39m.\u001b[39moptimize()\n\u001b[0;32m---> 33\u001b[0m pi\u001b[39m=\u001b[39m[c\u001b[39m.\u001b[39mpi \u001b[39mfor\u001b[39;00m c \u001b[39min\u001b[39;00m relax\u001b[39m.\u001b[39mgetConstrs()]\n\u001b[1;32m     34\u001b[0m sub\u001b[39m=\u001b[39mModel(\u001b[39m\"\u001b[39m\u001b[39msub\u001b[39m\u001b[39m\"\u001b[39m)\n\u001b[1;32m     35\u001b[0m y\u001b[39m=\u001b[39m{}\n",
      "Cell \u001b[0;32mIn[7], line 33\u001b[0m, in \u001b[0;36m<listcomp>\u001b[0;34m(.0)\u001b[0m\n\u001b[1;32m     31\u001b[0m relax\u001b[39m=\u001b[39mmaster\u001b[39m.\u001b[39mrelax()\n\u001b[1;32m     32\u001b[0m relax\u001b[39m.\u001b[39moptimize()\n\u001b[0;32m---> 33\u001b[0m pi\u001b[39m=\u001b[39m[c\u001b[39m.\u001b[39;49mpi \u001b[39mfor\u001b[39;00m c \u001b[39min\u001b[39;00m relax\u001b[39m.\u001b[39mgetConstrs()]\n\u001b[1;32m     34\u001b[0m sub\u001b[39m=\u001b[39mModel(\u001b[39m\"\u001b[39m\u001b[39msub\u001b[39m\u001b[39m\"\u001b[39m)\n\u001b[1;32m     35\u001b[0m y\u001b[39m=\u001b[39m{}\n",
      "File \u001b[0;32msrc/gurobipy/constr.pxi:67\u001b[0m, in \u001b[0;36mgurobipy.Constr.__getattr__\u001b[0;34m()\u001b[0m\n",
      "File \u001b[0;32msrc/gurobipy/constr.pxi:95\u001b[0m, in \u001b[0;36mgurobipy.Constr.getAttr\u001b[0;34m()\u001b[0m\n",
      "File \u001b[0;32msrc/gurobipy/attrutil.pxi:100\u001b[0m, in \u001b[0;36mgurobipy.__getattr\u001b[0;34m()\u001b[0m\n",
      "\u001b[0;31mAttributeError\u001b[0m: Unable to retrieve attribute 'pi'"
     ]
    }
   ],
   "source": [
    "from gurobipy import *\n",
    "import numpy as np\n",
    "m=20\n",
    "s=[94,69,32,96,70,84,58,78,25,80,58,66,83,24,98,60,42,43,43, 39]\n",
    "B=150\n",
    "a=[]\n",
    "a1=[1,0,0,0,0,0,0,0,0,0,0,0,0,0,0,0,0,0,0,0]\n",
    "a2=[0,1,0,0,0,0,0,0,0,0,0,0,0,0,0,0,0,0,0,0]\n",
    "a.append(a1)\n",
    "a.append(a2)\n",
    "n=len(a)\n",
    "master=Model(\"master\")\n",
    "x={}\n",
    "for j in range(n):\n",
    "    x[j]=master.addVar(vtype=\"B\",name=\"x(%s)\"%j)\n",
    "\n",
    "orders={}\n",
    "for i in range(m):\n",
    "    orders[i]=master.addConstr(\n",
    "        quicksum(a[j][i]*x[j] for j in range(n))>=1,\"order(%s)\"%i\n",
    "    )\n",
    "master.setObjective(quicksum(x[j] for j in range(n)), GRB.MINIMIZE)\n",
    "master.update()\n",
    "\n",
    "iter = 0\n",
    "dual=[]\n",
    "EPS = 1.e-6\n",
    "while True:\n",
    "    iter += 1\n",
    "    print(\"*****relaxation for master problem*****\")\n",
    "    relax=master.relax()\n",
    "    relax.optimize()\n",
    "    pi=[c.pi for c in relax.getConstrs()]\n",
    "    sub=Model(\"sub\")\n",
    "    y={}\n",
    "    for i in range(m):\n",
    "        y[i]=sub.addVar(vtype=\"B\")\n",
    "    sub.addConstr(quicksum(y[i]*s[i] for i in range(m))<=B)\n",
    "    sub.setObjective(quicksum(pi[i]*y[i] for i in range(m)),GRB.MAXIMIZE)\n",
    "    print(\"***** sub problem*****\")\n",
    "    sub.optimize()\n",
    "    for i in range(m):\n",
    "        print(y[i].x)\n",
    "    if sub.ObjVal <1+EPS:\n",
    "        break\n",
    "    var=[]\n",
    "    for i in range(m):\n",
    "        var.append(y[i].x)\n",
    "    a.append(var)\n",
    "    print(a)\n",
    "    col=Column()\n",
    "    for i in range(m):\n",
    "        col.addTerms(a[n][i],orders[i])\n",
    "    x[n]=master.addVar(obj=1,vtype=\"B\",name=\"x(%s)\"%n,column=col)\n",
    "    master.update()\n",
    "    master.write(\"MP\" + str(iter) + \".lp\")\n",
    "    n+=1\n",
    "    dual.append(pi)\n",
    "print(\"*****integer problem*****\")\n",
    "master.update()\n",
    "master.optimize()\n",
    "print(a)\n",
    "for j in range(n):\n",
    "    print(x[j].x)"
   ]
  },
  {
   "cell_type": "code",
   "execution_count": null,
   "metadata": {},
   "outputs": [],
   "source": [
    "# knapsack problem"
   ]
  },
  {
   "cell_type": "code",
   "execution_count": 5,
   "metadata": {},
   "outputs": [],
   "source": [
    "val = [1,1,1,1]\n",
    "weight = [8, 16, 32, 40]\n",
    "capacity = 64\n",
    "nitems = 4\n",
    "\n",
    "table = [[0 for x in range(capacity + 1)] for x in range(nitems + 1)]\n"
   ]
  },
  {
   "cell_type": "code",
   "execution_count": 6,
   "metadata": {},
   "outputs": [
    {
     "data": {
      "text/plain": [
       "[[0,\n",
       "  0,\n",
       "  0,\n",
       "  0,\n",
       "  0,\n",
       "  0,\n",
       "  0,\n",
       "  0,\n",
       "  0,\n",
       "  0,\n",
       "  0,\n",
       "  0,\n",
       "  0,\n",
       "  0,\n",
       "  0,\n",
       "  0,\n",
       "  0,\n",
       "  0,\n",
       "  0,\n",
       "  0,\n",
       "  0,\n",
       "  0,\n",
       "  0,\n",
       "  0,\n",
       "  0,\n",
       "  0,\n",
       "  0,\n",
       "  0,\n",
       "  0,\n",
       "  0,\n",
       "  0,\n",
       "  0,\n",
       "  0,\n",
       "  0,\n",
       "  0,\n",
       "  0,\n",
       "  0,\n",
       "  0,\n",
       "  0,\n",
       "  0,\n",
       "  0,\n",
       "  0,\n",
       "  0,\n",
       "  0,\n",
       "  0,\n",
       "  0,\n",
       "  0,\n",
       "  0,\n",
       "  0,\n",
       "  0,\n",
       "  0,\n",
       "  0,\n",
       "  0,\n",
       "  0,\n",
       "  0,\n",
       "  0,\n",
       "  0,\n",
       "  0,\n",
       "  0,\n",
       "  0,\n",
       "  0,\n",
       "  0,\n",
       "  0,\n",
       "  0,\n",
       "  0],\n",
       " [0,\n",
       "  0,\n",
       "  0,\n",
       "  0,\n",
       "  0,\n",
       "  0,\n",
       "  0,\n",
       "  0,\n",
       "  0,\n",
       "  0,\n",
       "  0,\n",
       "  0,\n",
       "  0,\n",
       "  0,\n",
       "  0,\n",
       "  0,\n",
       "  0,\n",
       "  0,\n",
       "  0,\n",
       "  0,\n",
       "  0,\n",
       "  0,\n",
       "  0,\n",
       "  0,\n",
       "  0,\n",
       "  0,\n",
       "  0,\n",
       "  0,\n",
       "  0,\n",
       "  0,\n",
       "  0,\n",
       "  0,\n",
       "  0,\n",
       "  0,\n",
       "  0,\n",
       "  0,\n",
       "  0,\n",
       "  0,\n",
       "  0,\n",
       "  0,\n",
       "  0,\n",
       "  0,\n",
       "  0,\n",
       "  0,\n",
       "  0,\n",
       "  0,\n",
       "  0,\n",
       "  0,\n",
       "  0,\n",
       "  0,\n",
       "  0,\n",
       "  0,\n",
       "  0,\n",
       "  0,\n",
       "  0,\n",
       "  0,\n",
       "  0,\n",
       "  0,\n",
       "  0,\n",
       "  0,\n",
       "  0,\n",
       "  0,\n",
       "  0,\n",
       "  0,\n",
       "  0],\n",
       " [0,\n",
       "  0,\n",
       "  0,\n",
       "  0,\n",
       "  0,\n",
       "  0,\n",
       "  0,\n",
       "  0,\n",
       "  0,\n",
       "  0,\n",
       "  0,\n",
       "  0,\n",
       "  0,\n",
       "  0,\n",
       "  0,\n",
       "  0,\n",
       "  0,\n",
       "  0,\n",
       "  0,\n",
       "  0,\n",
       "  0,\n",
       "  0,\n",
       "  0,\n",
       "  0,\n",
       "  0,\n",
       "  0,\n",
       "  0,\n",
       "  0,\n",
       "  0,\n",
       "  0,\n",
       "  0,\n",
       "  0,\n",
       "  0,\n",
       "  0,\n",
       "  0,\n",
       "  0,\n",
       "  0,\n",
       "  0,\n",
       "  0,\n",
       "  0,\n",
       "  0,\n",
       "  0,\n",
       "  0,\n",
       "  0,\n",
       "  0,\n",
       "  0,\n",
       "  0,\n",
       "  0,\n",
       "  0,\n",
       "  0,\n",
       "  0,\n",
       "  0,\n",
       "  0,\n",
       "  0,\n",
       "  0,\n",
       "  0,\n",
       "  0,\n",
       "  0,\n",
       "  0,\n",
       "  0,\n",
       "  0,\n",
       "  0,\n",
       "  0,\n",
       "  0,\n",
       "  0],\n",
       " [0,\n",
       "  0,\n",
       "  0,\n",
       "  0,\n",
       "  0,\n",
       "  0,\n",
       "  0,\n",
       "  0,\n",
       "  0,\n",
       "  0,\n",
       "  0,\n",
       "  0,\n",
       "  0,\n",
       "  0,\n",
       "  0,\n",
       "  0,\n",
       "  0,\n",
       "  0,\n",
       "  0,\n",
       "  0,\n",
       "  0,\n",
       "  0,\n",
       "  0,\n",
       "  0,\n",
       "  0,\n",
       "  0,\n",
       "  0,\n",
       "  0,\n",
       "  0,\n",
       "  0,\n",
       "  0,\n",
       "  0,\n",
       "  0,\n",
       "  0,\n",
       "  0,\n",
       "  0,\n",
       "  0,\n",
       "  0,\n",
       "  0,\n",
       "  0,\n",
       "  0,\n",
       "  0,\n",
       "  0,\n",
       "  0,\n",
       "  0,\n",
       "  0,\n",
       "  0,\n",
       "  0,\n",
       "  0,\n",
       "  0,\n",
       "  0,\n",
       "  0,\n",
       "  0,\n",
       "  0,\n",
       "  0,\n",
       "  0,\n",
       "  0,\n",
       "  0,\n",
       "  0,\n",
       "  0,\n",
       "  0,\n",
       "  0,\n",
       "  0,\n",
       "  0,\n",
       "  0],\n",
       " [0,\n",
       "  0,\n",
       "  0,\n",
       "  0,\n",
       "  0,\n",
       "  0,\n",
       "  0,\n",
       "  0,\n",
       "  0,\n",
       "  0,\n",
       "  0,\n",
       "  0,\n",
       "  0,\n",
       "  0,\n",
       "  0,\n",
       "  0,\n",
       "  0,\n",
       "  0,\n",
       "  0,\n",
       "  0,\n",
       "  0,\n",
       "  0,\n",
       "  0,\n",
       "  0,\n",
       "  0,\n",
       "  0,\n",
       "  0,\n",
       "  0,\n",
       "  0,\n",
       "  0,\n",
       "  0,\n",
       "  0,\n",
       "  0,\n",
       "  0,\n",
       "  0,\n",
       "  0,\n",
       "  0,\n",
       "  0,\n",
       "  0,\n",
       "  0,\n",
       "  0,\n",
       "  0,\n",
       "  0,\n",
       "  0,\n",
       "  0,\n",
       "  0,\n",
       "  0,\n",
       "  0,\n",
       "  0,\n",
       "  0,\n",
       "  0,\n",
       "  0,\n",
       "  0,\n",
       "  0,\n",
       "  0,\n",
       "  0,\n",
       "  0,\n",
       "  0,\n",
       "  0,\n",
       "  0,\n",
       "  0,\n",
       "  0,\n",
       "  0,\n",
       "  0,\n",
       "  0]]"
      ]
     },
     "execution_count": 6,
     "metadata": {},
     "output_type": "execute_result"
    }
   ],
   "source": [
    "table"
   ]
  },
  {
   "cell_type": "code",
   "execution_count": 4,
   "metadata": {},
   "outputs": [
    {
     "name": "stdout",
     "output_type": "stream",
     "text": [
      "0\n",
      "0\n",
      "0\n",
      "0\n",
      "0\n",
      "0\n",
      "0\n",
      "0\n",
      "0\n",
      "0\n",
      "0\n",
      "0\n",
      "0\n",
      "0\n",
      "0\n",
      "0\n",
      "0\n",
      "0\n",
      "0\n",
      "0\n",
      "0\n",
      "0\n",
      "0\n",
      "0\n",
      "0\n",
      "0\n",
      "0\n",
      "0\n",
      "0\n",
      "0\n",
      "0\n",
      "0\n",
      "0\n",
      "0\n",
      "0\n",
      "0\n",
      "0\n",
      "0\n",
      "0\n",
      "0\n",
      "0\n",
      "0\n",
      "0\n",
      "0\n",
      "0\n",
      "0\n",
      "0\n",
      "0\n",
      "0\n",
      "0\n",
      "0\n",
      "0\n",
      "0\n",
      "0\n",
      "0\n",
      "0\n",
      "0\n",
      "0\n",
      "0\n",
      "0\n",
      "0\n",
      "0\n",
      "0\n",
      "0\n",
      "0\n",
      "0\n",
      "0\n",
      "0\n",
      "0\n",
      "0\n",
      "0\n",
      "0\n",
      "0\n",
      "50\n",
      "50\n",
      "50\n",
      "50\n",
      "50\n",
      "50\n",
      "50\n",
      "50\n",
      "50\n",
      "50\n",
      "50\n",
      "50\n",
      "50\n",
      "50\n",
      "50\n",
      "50\n",
      "50\n",
      "50\n",
      "50\n",
      "50\n",
      "50\n",
      "50\n",
      "50\n",
      "50\n",
      "50\n",
      "50\n",
      "50\n",
      "50\n",
      "50\n",
      "50\n",
      "50\n",
      "50\n",
      "50\n",
      "50\n",
      "50\n",
      "50\n",
      "50\n",
      "50\n",
      "50\n",
      "50\n",
      "50\n",
      "50\n",
      "50\n",
      "50\n",
      "50\n",
      "50\n",
      "50\n",
      "50\n",
      "50\n",
      "50\n",
      "50\n",
      "50\n",
      "50\n",
      "50\n",
      "50\n",
      "50\n",
      "50\n",
      "0\n",
      "0\n",
      "0\n",
      "0\n",
      "0\n",
      "0\n",
      "0\n",
      "0\n",
      "50\n",
      "50\n",
      "50\n",
      "50\n",
      "50\n",
      "50\n",
      "50\n",
      "50\n",
      "100\n",
      "100\n",
      "100\n",
      "100\n",
      "100\n",
      "100\n",
      "100\n",
      "100\n",
      "150\n",
      "150\n",
      "150\n",
      "150\n",
      "150\n",
      "150\n",
      "150\n",
      "150\n",
      "150\n",
      "150\n",
      "150\n",
      "150\n",
      "150\n",
      "150\n",
      "150\n",
      "150\n",
      "150\n",
      "150\n",
      "150\n",
      "150\n",
      "150\n",
      "150\n",
      "150\n",
      "150\n",
      "150\n",
      "150\n",
      "150\n",
      "150\n",
      "150\n",
      "150\n",
      "150\n",
      "150\n",
      "150\n",
      "150\n",
      "150\n",
      "150\n",
      "150\n",
      "150\n",
      "150\n",
      "150\n",
      "150\n",
      "0\n",
      "0\n",
      "0\n",
      "0\n",
      "0\n",
      "0\n",
      "0\n",
      "0\n",
      "50\n",
      "50\n",
      "50\n",
      "50\n",
      "50\n",
      "50\n",
      "50\n",
      "50\n",
      "100\n",
      "100\n",
      "100\n",
      "100\n",
      "100\n",
      "100\n",
      "100\n",
      "100\n",
      "150\n",
      "150\n",
      "150\n",
      "150\n",
      "150\n",
      "150\n",
      "150\n",
      "150\n",
      "150\n",
      "150\n",
      "150\n",
      "150\n",
      "150\n",
      "150\n",
      "150\n",
      "150\n",
      "200\n",
      "200\n",
      "200\n",
      "200\n",
      "200\n",
      "200\n",
      "200\n",
      "200\n",
      "250\n",
      "250\n",
      "250\n",
      "250\n",
      "250\n",
      "250\n",
      "250\n",
      "250\n",
      "300\n",
      "300\n",
      "300\n",
      "300\n",
      "300\n",
      "300\n",
      "300\n",
      "300\n",
      "300\n",
      "0\n",
      "0\n",
      "0\n",
      "0\n",
      "0\n",
      "0\n",
      "0\n",
      "0\n",
      "50\n",
      "50\n",
      "50\n",
      "50\n",
      "50\n",
      "50\n",
      "50\n",
      "50\n",
      "100\n",
      "100\n",
      "100\n",
      "100\n",
      "100\n",
      "100\n",
      "100\n",
      "100\n",
      "150\n",
      "150\n",
      "150\n",
      "150\n",
      "150\n",
      "150\n",
      "150\n",
      "150\n",
      "150\n",
      "150\n",
      "150\n",
      "150\n",
      "150\n",
      "150\n",
      "150\n",
      "150\n",
      "200\n",
      "200\n",
      "200\n",
      "200\n",
      "200\n",
      "200\n",
      "200\n",
      "200\n",
      "250\n",
      "250\n",
      "250\n",
      "250\n",
      "250\n",
      "250\n",
      "250\n",
      "250\n",
      "300\n",
      "300\n",
      "300\n",
      "300\n",
      "300\n",
      "300\n",
      "300\n",
      "300\n",
      "350\n",
      "350\n"
     ]
    }
   ],
   "source": [
    "def knapSack(W, wt, val): \n",
    "    n=len(val)\n",
    "    table = [[0 for x in range(W + 1)] for x in range(n + 1)] \n",
    " \n",
    "    for i in range(n + 1): \n",
    "        for j in range(W + 1): \n",
    "            if i == 0 or j == 0: \n",
    "                table[i][j] = 0\n",
    "            elif wt[i-1] <= j: \n",
    "                table[i][j] = max(val[i-1]  \n",
    "                        + table[i-1][j-wt[i-1]],  table[i-1][j]) \n",
    "            else: \n",
    "                table[i][j] = table[i-1][j] \n",
    "            print(table[i][j])\n",
    "            \n",
    "    return table[n][W] \n",
    " \n",
    "val = [50,100,150,200]\n",
    "wt = [8,16,32,40]\n",
    "W = 64\n",
    " \n",
    "print(knapSack(W, wt, val))"
   ]
  },
  {
   "cell_type": "code",
   "execution_count": null,
   "metadata": {},
   "outputs": [],
   "source": []
  }
 ],
 "metadata": {
  "kernelspec": {
   "display_name": "Python 3",
   "language": "python",
   "name": "python3"
  },
  "language_info": {
   "codemirror_mode": {
    "name": "ipython",
    "version": 3
   },
   "file_extension": ".py",
   "mimetype": "text/x-python",
   "name": "python",
   "nbconvert_exporter": "python",
   "pygments_lexer": "ipython3",
   "version": "3.10.10"
  },
  "orig_nbformat": 4
 },
 "nbformat": 4,
 "nbformat_minor": 2
}
