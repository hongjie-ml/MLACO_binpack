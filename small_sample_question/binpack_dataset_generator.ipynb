{
 "cells": [
  {
   "cell_type": "code",
   "execution_count": 1,
   "metadata": {},
   "outputs": [],
   "source": [
    "import random\n",
    "import os"
   ]
  },
  {
   "cell_type": "code",
   "execution_count": 11,
   "metadata": {},
   "outputs": [],
   "source": [
    "nitem = 80\n",
    "capacity = nitem*5\n",
    "max_weight = capacity*0.9\n",
    "\n",
    "generated_dataset_num = 10\n",
    "\n",
    "dataset_list = []\n",
    "\n",
    "dataset_path = \"../data/\"\n",
    "\n",
    "for i in range(generated_dataset_num):\n",
    "    weight_list = []\n",
    "    for j in range(nitem): \n",
    "        temp = random.randint(1, max_weight)\n",
    "        weight_list.append(temp)\n",
    "    dataset_list.append(weight_list)\n",
    "\n",
    "\n",
    "for idx, dataset in enumerate(dataset_list):\n",
    "    filename = \"u\" + str(nitem) + \"_00_\" + str(idx) + \".bpa\"\n",
    "    filepath = os.path.join(dataset_path, filename)\n",
    "    with open(filepath, \"w\") as f:\n",
    "        f.write(\"u\" + str(nitem) + \"_00_\" + str(idx) + \"\\n\")\n",
    "        f.write(str(capacity) + \" \" + str(nitem) + \" \" + str(48) + \"\\n\")\n",
    "        for i in dataset:\n",
    "            f.write(str(i) + \"\\n\")\n"
   ]
  }
 ],
 "metadata": {
  "kernelspec": {
   "display_name": "base",
   "language": "python",
   "name": "python3"
  },
  "language_info": {
   "codemirror_mode": {
    "name": "ipython",
    "version": 3
   },
   "file_extension": ".py",
   "mimetype": "text/x-python",
   "name": "python",
   "nbconvert_exporter": "python",
   "pygments_lexer": "ipython3",
   "version": "3.10.10"
  },
  "orig_nbformat": 4
 },
 "nbformat": 4,
 "nbformat_minor": 2
}
